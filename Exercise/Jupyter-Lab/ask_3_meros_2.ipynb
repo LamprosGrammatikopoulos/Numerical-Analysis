{
 "cells": [
  {
   "cell_type": "code",
   "execution_count": 5,
   "id": "heard-shoot",
   "metadata": {},
   "outputs": [],
   "source": [
    "import math"
   ]
  },
  {
   "cell_type": "code",
   "execution_count": 4,
   "id": "further-activity",
   "metadata": {},
   "outputs": [],
   "source": [
    "### Ολοκλήρωση με σύνθετο κανόνα τραπεζίου"
   ]
  },
  {
   "cell_type": "code",
   "execution_count": 1,
   "id": "focal-shame",
   "metadata": {},
   "outputs": [],
   "source": [
    "def trapez(f,N,a,b):\n",
    "    h=(b-a)/N\n",
    "    S0=f(a)+f(b)\n",
    "    S1=0\n",
    "    x0=a\n",
    "    for i in range(1,N):        \n",
    "        x=x0+i*h\n",
    "        S1=S1+f(x)\n",
    "    I=0.5*h*(S0+2*S1)\n",
    "    return I\n",
    "def f(x):\n",
    "    return 3*(x**3)*(math.e**(-6*x**2))"
   ]
  },
  {
   "cell_type": "code",
   "execution_count": 9,
   "id": "bulgarian-stake",
   "metadata": {},
   "outputs": [
    {
     "data": {
      "text/plain": [
       "0.0416692403755371"
      ]
     },
     "execution_count": 9,
     "metadata": {},
     "output_type": "execute_result"
    }
   ],
   "source": [
    "trapez(f,20,0,2)"
   ]
  },
  {
   "cell_type": "code",
   "execution_count": 7,
   "id": "automated-bosnia",
   "metadata": {},
   "outputs": [
    {
     "data": {
      "text/plain": [
       "0.04166682399811738"
      ]
     },
     "execution_count": 7,
     "metadata": {},
     "output_type": "execute_result"
    }
   ],
   "source": [
    "trapez(f,40,0,2)"
   ]
  },
  {
   "cell_type": "code",
   "execution_count": 8,
   "id": "biblical-pennsylvania",
   "metadata": {},
   "outputs": [
    {
     "data": {
      "text/plain": [
       "0.04166666687724403"
      ]
     },
     "execution_count": 8,
     "metadata": {},
     "output_type": "execute_result"
    }
   ],
   "source": [
    "trapez(f,200,0,2)"
   ]
  },
  {
   "cell_type": "code",
   "execution_count": 10,
   "id": "crazy-independence",
   "metadata": {},
   "outputs": [
    {
     "data": {
      "text/plain": [
       "0.041666666627365664"
      ]
     },
     "execution_count": 10,
     "metadata": {},
     "output_type": "execute_result"
    }
   ],
   "source": [
    "trapez(f,2000,0,2)"
   ]
  },
  {
   "cell_type": "code",
   "execution_count": 6,
   "id": "desperate-messaging",
   "metadata": {},
   "outputs": [],
   "source": [
    "### Ολοκλήρωση με σύνθετο κανόνα Simpson"
   ]
  },
  {
   "cell_type": "code",
   "execution_count": 11,
   "id": "informational-atlas",
   "metadata": {},
   "outputs": [],
   "source": [
    "def simpson(f,N,a,b):\n",
    "    n=2*N\n",
    "    h=(b-a)/n\n",
    "    S0=f(a)+f(b)\n",
    "    S1=0\n",
    "    S2=0\n",
    "    x0=a\n",
    "    for i in range(1,n):        \n",
    "        x=x0+i*h\n",
    "        if i%2==0:\n",
    "            S2+=f(x)\n",
    "        else:\n",
    "            S1+=f(x)\n",
    "    I=(h/3)*(S0+4*S1+2*S2)\n",
    "    return I\n",
    "def f(x):\n",
    "    return 3*(x**3)*(math.e**(-6*x**2))"
   ]
  },
  {
   "cell_type": "code",
   "execution_count": 12,
   "id": "lonely-going",
   "metadata": {},
   "outputs": [
    {
     "data": {
      "text/plain": [
       "0.04165501543988148"
      ]
     },
     "execution_count": 12,
     "metadata": {},
     "output_type": "execute_result"
    }
   ],
   "source": [
    "simpson(f,10,0,2)"
   ]
  },
  {
   "cell_type": "code",
   "execution_count": 13,
   "id": "expected-traffic",
   "metadata": {},
   "outputs": [
    {
     "data": {
      "text/plain": [
       "0.041666018538977466"
      ]
     },
     "execution_count": 13,
     "metadata": {},
     "output_type": "execute_result"
    }
   ],
   "source": [
    "simpson(f,20,0,2)"
   ]
  },
  {
   "cell_type": "code",
   "execution_count": 14,
   "id": "received-signature",
   "metadata": {},
   "outputs": [
    {
     "data": {
      "text/plain": [
       "0.04166666562591137"
      ]
     },
     "execution_count": 14,
     "metadata": {},
     "output_type": "execute_result"
    }
   ],
   "source": [
    "simpson(f,100,0,2)"
   ]
  },
  {
   "cell_type": "code",
   "execution_count": 15,
   "id": "changed-thomson",
   "metadata": {},
   "outputs": [
    {
     "data": {
      "text/plain": [
       "0.04166666662724236"
      ]
     },
     "execution_count": 15,
     "metadata": {},
     "output_type": "execute_result"
    }
   ],
   "source": [
    "simpson(f,1000,0,2)"
   ]
  },
  {
   "cell_type": "code",
   "execution_count": 9,
   "id": "prostate-division",
   "metadata": {},
   "outputs": [],
   "source": [
    "### Ολοκλήρωση με σύνθετο κανόνα Simpson των 3/8"
   ]
  },
  {
   "cell_type": "code",
   "execution_count": 16,
   "id": "periodic-residence",
   "metadata": {},
   "outputs": [],
   "source": [
    "def simpson_38(f,N,a,b):\n",
    "    n=3*N\n",
    "    h=(b-a)/n\n",
    "    S0=f(a)+f(b)\n",
    "    S1=0\n",
    "    S2=0\n",
    "    S3=0\n",
    "    x0=a\n",
    "    for i in range(1,n):        \n",
    "        x=x0+i*h\n",
    "        if i%3==0:\n",
    "            S3+=f(x)\n",
    "        elif i%3==2:\n",
    "            S2+=f(x)\n",
    "        elif i%3==1:\n",
    "            S1+=f(x)\n",
    "    I=(3*h/8)*(S0+3*S1+3*S2+2*S3)\n",
    "    return I\n",
    "def f(x):\n",
    "    return 3*(x**3)*(math.e**(-6*x**2))"
   ]
  },
  {
   "cell_type": "code",
   "execution_count": 17,
   "id": "plain-medicare",
   "metadata": {},
   "outputs": [
    {
     "data": {
      "text/plain": [
       "0.04164151860465117"
      ]
     },
     "execution_count": 17,
     "metadata": {},
     "output_type": "execute_result"
    }
   ],
   "source": [
    "simpson_38(f,7,0,2)"
   ]
  },
  {
   "cell_type": "code",
   "execution_count": 18,
   "id": "multiple-precipitation",
   "metadata": {},
   "outputs": [
    {
     "data": {
      "text/plain": [
       "0.04166498391966109"
      ]
     },
     "execution_count": 18,
     "metadata": {},
     "output_type": "execute_result"
    }
   ],
   "source": [
    "simpson_38(f,13,0,2)"
   ]
  },
  {
   "cell_type": "code",
   "execution_count": 19,
   "id": "casual-german",
   "metadata": {},
   "outputs": [
    {
     "data": {
      "text/plain": [
       "0.04166666441552745"
      ]
     },
     "execution_count": 19,
     "metadata": {},
     "output_type": "execute_result"
    }
   ],
   "source": [
    "simpson_38(f,67,0,2)"
   ]
  },
  {
   "cell_type": "code",
   "execution_count": 20,
   "id": "circular-character",
   "metadata": {},
   "outputs": [
    {
     "data": {
      "text/plain": [
       "0.04166666662711776"
      ]
     },
     "execution_count": 20,
     "metadata": {},
     "output_type": "execute_result"
    }
   ],
   "source": [
    "simpson_38(f,667,0,2)"
   ]
  }
 ],
 "metadata": {
  "kernelspec": {
   "display_name": "Python 3",
   "language": "python",
   "name": "python3"
  },
  "language_info": {
   "codemirror_mode": {
    "name": "ipython",
    "version": 3
   },
   "file_extension": ".py",
   "mimetype": "text/x-python",
   "name": "python",
   "nbconvert_exporter": "python",
   "pygments_lexer": "ipython3",
   "version": "3.9.2"
  }
 },
 "nbformat": 4,
 "nbformat_minor": 5
}
