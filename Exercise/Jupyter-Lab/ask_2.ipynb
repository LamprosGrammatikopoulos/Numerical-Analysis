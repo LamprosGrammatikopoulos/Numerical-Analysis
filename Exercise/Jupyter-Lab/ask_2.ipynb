{
 "cells": [
  {
   "cell_type": "code",
   "execution_count": 11,
   "id": "gorgeous-medline",
   "metadata": {},
   "outputs": [],
   "source": [
    "import math"
   ]
  },
  {
   "cell_type": "code",
   "execution_count": 3,
   "id": "entitled-evidence",
   "metadata": {},
   "outputs": [],
   "source": [
    "import numpy as np"
   ]
  },
  {
   "cell_type": "code",
   "execution_count": 2,
   "id": "accredited-squad",
   "metadata": {},
   "outputs": [],
   "source": [
    "### Παρεμβολή με διαιρεμένες διαφορές"
   ]
  },
  {
   "cell_type": "code",
   "execution_count": 39,
   "id": "inner-williams",
   "metadata": {},
   "outputs": [
    {
     "data": {
      "text/plain": [
       "[[1.2, 1.6, 1.4, 2.4],\n",
       " [2.0000000000000013, -0.40000000000000036, 0.35714285714285715],\n",
       " [-3.428571428571431, 0.22943722943722958],\n",
       " [1.0451453308596172]]"
      ]
     },
     "execution_count": 39,
     "metadata": {},
     "output_type": "execute_result"
    }
   ],
   "source": [
    "x=[0.5,0.7,1.2,4]\n",
    "def f(i):\n",
    "    if(i==0.5):\n",
    "        return 1.2\n",
    "    if(i==0.7):\n",
    "        return 1.6\n",
    "    if(i==1.2):\n",
    "        return 1.4\n",
    "    if(i==4):\n",
    "        return 2.4\n",
    "\n",
    "\n",
    "def divided_diff(x,k,n):\n",
    "    k_list=[[] for i in range(k)]\n",
    "    for j in range(n):\n",
    "        k_list[0].append(f(x[j]))\n",
    "    for k in range(1,n+1):\n",
    "        for i in range(n-k):\n",
    "            temp=(k_list[k-1][i+1]-k_list[k-1][i])/(x[i+k]-x[i])\n",
    "            k_list[k].append(temp)\n",
    "    return k_list\n",
    "\n",
    "divided_diff(x,4,4)"
   ]
  },
  {
   "cell_type": "code",
   "execution_count": null,
   "id": "psychological-matter",
   "metadata": {},
   "outputs": [],
   "source": [
    "### Μέθοδος ελαχίστων τετραγώνων 2ης τάξης"
   ]
  },
  {
   "cell_type": "code",
   "execution_count": 23,
   "id": "large-standing",
   "metadata": {},
   "outputs": [],
   "source": [
    "x=[0.5,0.7,1.2,4,3.2]\n",
    "y=[1.2,1.6,1.4,2.4,5]\n",
    "\n",
    "def least_squares(x,y):\n",
    "    n=len(y)\n",
    "    Sxi=sum([xi for xi in x])\n",
    "    Sxi2=sum([xi**2 for xi in x])\n",
    "    Sxi3=sum([xi**3 for xi in x])\n",
    "    Sxi4=sum([xi**4 for xi in x])\n",
    "    Sxi5=sum([xi**5 for xi in x])\n",
    "    Sxi6=sum([xi**6 for xi in x])\n",
    "    Syi=sum([yi for yi in y])\n",
    "    \n",
    "    #Sxiyi=sum([xi*yi for xi,yi in zip(x,y)])\n",
    "    Sxiyi=0\n",
    "    Sxi2yi=0\n",
    "    Sxi3yi=0\n",
    "    Sxi4yi=0\n",
    "    Sxi5yi=0\n",
    "    for i in range(n):\n",
    "        Sxiyi+=x[i]*y[i]\n",
    "        Sxi2yi+=(x[i]**2)*y[i]\n",
    "        Sxi3yi+=(x[i]**3)*y[i]\n",
    "        Sxi4yi+=(x[i]**4)*y[i]\n",
    "        Sxi5yi+=(x[i]**5)*y[i]\n",
    "    \n",
    "    A = np.array([[5, Sxi, Sxi2], [Sxi, Sxi2, Sxi3], [Sxi2, Sxi3, Sxi4]])\n",
    "    B = np.array([Syi, Sxiyi, Sxi2yi])\n",
    "    suntelestes = np.linalg.solve(A, B)\n",
    "    \n",
    "    sfalma=0\n",
    "    for i in range(n):\n",
    "        sfalma +=  (y[i] - (suntelestes[0] + suntelestes[1]*x[i] + suntelestes[2]*(x[i]**2) ) )**2 \n",
    "        \n",
    "    return suntelestes,sfalma"
   ]
  },
  {
   "cell_type": "code",
   "execution_count": 24,
   "id": "dependent-algorithm",
   "metadata": {},
   "outputs": [
    {
     "data": {
      "text/plain": [
       "(array([-1.03495239,  3.88843206, -0.72322962]), 3.004303842640895)"
      ]
     },
     "execution_count": 24,
     "metadata": {},
     "output_type": "execute_result"
    }
   ],
   "source": [
    "least_squares(x,y)"
   ]
  }
 ],
 "metadata": {
  "kernelspec": {
   "display_name": "Python 3",
   "language": "python",
   "name": "python3"
  },
  "language_info": {
   "codemirror_mode": {
    "name": "ipython",
    "version": 3
   },
   "file_extension": ".py",
   "mimetype": "text/x-python",
   "name": "python",
   "nbconvert_exporter": "python",
   "pygments_lexer": "ipython3",
   "version": "3.9.2"
  }
 },
 "nbformat": 4,
 "nbformat_minor": 5
}
