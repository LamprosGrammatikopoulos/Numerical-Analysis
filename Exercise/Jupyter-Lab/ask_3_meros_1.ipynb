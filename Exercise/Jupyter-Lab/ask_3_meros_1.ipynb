{
 "cells": [
  {
   "cell_type": "code",
   "execution_count": 25,
   "id": "authentic-antenna",
   "metadata": {},
   "outputs": [],
   "source": [
    "import math"
   ]
  },
  {
   "cell_type": "code",
   "execution_count": 4,
   "id": "coral-direction",
   "metadata": {},
   "outputs": [],
   "source": [
    "### Ολοκλήρωση με σύνθετο κανόνα τραπεζίου"
   ]
  },
  {
   "cell_type": "code",
   "execution_count": 42,
   "id": "favorite-authority",
   "metadata": {},
   "outputs": [],
   "source": [
    "def trapez(f,N,a,b):\n",
    "    h=(b-a)/N\n",
    "    S0=f(a)+f(b)\n",
    "    S1=0\n",
    "    x0=a\n",
    "    for i in range(1,N):        \n",
    "        x=x0+i*h\n",
    "        S1=S1+f(x)\n",
    "    I=0.5*h*(S0+2*S1)\n",
    "    return I\n",
    "def f(x):\n",
    "    return (x**3)*(math.e**(-x**2))"
   ]
  },
  {
   "cell_type": "code",
   "execution_count": 43,
   "id": "short-stranger",
   "metadata": {},
   "outputs": [
    {
     "data": {
      "text/plain": [
       "0.45390636288062813"
      ]
     },
     "execution_count": 43,
     "metadata": {},
     "output_type": "execute_result"
    }
   ],
   "source": [
    "trapez(f,20,0,2)"
   ]
  },
  {
   "cell_type": "code",
   "execution_count": 44,
   "id": "vietnamese-warning",
   "metadata": {},
   "outputs": [
    {
     "data": {
      "text/plain": [
       "0.4541346324549146"
      ]
     },
     "execution_count": 44,
     "metadata": {},
     "output_type": "execute_result"
    }
   ],
   "source": [
    "trapez(f,40,0,2)"
   ]
  },
  {
   "cell_type": "code",
   "execution_count": 29,
   "id": "disciplinary-pearl",
   "metadata": {},
   "outputs": [
    {
     "data": {
      "text/plain": [
       "0.4542078502433191"
      ]
     },
     "execution_count": 29,
     "metadata": {},
     "output_type": "execute_result"
    }
   ],
   "source": [
    "trapez(f,200,0,2)"
   ]
  },
  {
   "cell_type": "code",
   "execution_count": 30,
   "id": "offensive-gravity",
   "metadata": {},
   "outputs": [
    {
     "data": {
      "text/plain": [
       "0.45421087225210754"
      ]
     },
     "execution_count": 30,
     "metadata": {},
     "output_type": "execute_result"
    }
   ],
   "source": [
    "trapez(f,2000,0,2)"
   ]
  },
  {
   "cell_type": "code",
   "execution_count": 6,
   "id": "controlled-delay",
   "metadata": {},
   "outputs": [],
   "source": [
    "### Ολοκλήρωση με σύνθετο κανόνα Simpson"
   ]
  },
  {
   "cell_type": "code",
   "execution_count": 7,
   "id": "built-cheese",
   "metadata": {},
   "outputs": [],
   "source": [
    "def simpson(f,N,a,b):\n",
    "    n=2*N\n",
    "    h=(b-a)/n\n",
    "    S0=f(a)+f(b)\n",
    "    S1=0\n",
    "    S2=0\n",
    "    x0=a\n",
    "    for i in range(1,n):        \n",
    "        x=x0+i*h\n",
    "        if i%2==0:\n",
    "            S2+=f(x)\n",
    "        else:\n",
    "            S1+=f(x)\n",
    "    I=(h/3)*(S0+4*S1+2*S2)\n",
    "    return I\n",
    "def f(x):\n",
    "    return (x**3)*(math.e**(-x**2))"
   ]
  },
  {
   "cell_type": "code",
   "execution_count": 45,
   "id": "incomplete-shakespeare",
   "metadata": {},
   "outputs": [
    {
     "data": {
      "text/plain": [
       "0.4542079472169761"
      ]
     },
     "execution_count": 45,
     "metadata": {},
     "output_type": "execute_result"
    }
   ],
   "source": [
    "simpson(f,10,0,2)"
   ]
  },
  {
   "cell_type": "code",
   "execution_count": 46,
   "id": "dramatic-complexity",
   "metadata": {},
   "outputs": [
    {
     "data": {
      "text/plain": [
       "0.45421072231301013"
      ]
     },
     "execution_count": 46,
     "metadata": {},
     "output_type": "execute_result"
    }
   ],
   "source": [
    "simpson(f,20,0,2)"
   ]
  },
  {
   "cell_type": "code",
   "execution_count": 47,
   "id": "adaptive-iceland",
   "metadata": {},
   "outputs": [
    {
     "data": {
      "text/plain": [
       "0.4542109024915496"
      ]
     },
     "execution_count": 47,
     "metadata": {},
     "output_type": "execute_result"
    }
   ],
   "source": [
    "simpson(f,100,0,2)"
   ]
  },
  {
   "cell_type": "code",
   "execution_count": 48,
   "id": "rolled-royal",
   "metadata": {},
   "outputs": [
    {
     "data": {
      "text/plain": [
       "0.4542109027781358"
      ]
     },
     "execution_count": 48,
     "metadata": {},
     "output_type": "execute_result"
    }
   ],
   "source": [
    "simpson(f,1000,0,2)"
   ]
  },
  {
   "cell_type": "code",
   "execution_count": 9,
   "id": "casual-citizen",
   "metadata": {},
   "outputs": [],
   "source": [
    "### Ολοκλήρωση με σύνθετο κανόνα Simpson των 3/8"
   ]
  },
  {
   "cell_type": "code",
   "execution_count": 10,
   "id": "alpha-width",
   "metadata": {},
   "outputs": [],
   "source": [
    "def simpson_38(f,N,a,b):\n",
    "    n=3*N\n",
    "    h=(b-a)/n\n",
    "    S0=f(a)+f(b)\n",
    "    S1=0\n",
    "    S2=0\n",
    "    S3=0\n",
    "    x0=a\n",
    "    for i in range(1,n):        \n",
    "        x=x0+i*h\n",
    "        if i%3==0:\n",
    "            S3+=f(x)\n",
    "        elif i%3==2:\n",
    "            S2+=f(x)\n",
    "        elif i%3==1:\n",
    "            S1+=f(x)\n",
    "    I=(3*h/8)*(S0+3*S1+3*S2+2*S3)\n",
    "    return I\n",
    "def f(x):\n",
    "    return (x**3)*(math.e**(-x**2))"
   ]
  },
  {
   "cell_type": "code",
   "execution_count": 49,
   "id": "bright-vitamin",
   "metadata": {},
   "outputs": [
    {
     "data": {
      "text/plain": [
       "0.45420528853590214"
      ]
     },
     "execution_count": 49,
     "metadata": {},
     "output_type": "execute_result"
    }
   ],
   "source": [
    "simpson_38(f,7,0,2)"
   ]
  },
  {
   "cell_type": "code",
   "execution_count": 50,
   "id": "living-relevance",
   "metadata": {},
   "outputs": [
    {
     "data": {
      "text/plain": [
       "0.4542104495921737"
      ]
     },
     "execution_count": 50,
     "metadata": {},
     "output_type": "execute_result"
    }
   ],
   "source": [
    "simpson_38(f,13,0,2)"
   ]
  },
  {
   "cell_type": "code",
   "execution_count": 53,
   "id": "systematic-minnesota",
   "metadata": {},
   "outputs": [
    {
     "data": {
      "text/plain": [
       "0.4542109021458282"
      ]
     },
     "execution_count": 53,
     "metadata": {},
     "output_type": "execute_result"
    }
   ],
   "source": [
    "simpson_38(f,67,0,2)"
   ]
  },
  {
   "cell_type": "code",
   "execution_count": 54,
   "id": "focal-longer",
   "metadata": {},
   "outputs": [
    {
     "data": {
      "text/plain": [
       "0.4542109027781002"
      ]
     },
     "execution_count": 54,
     "metadata": {},
     "output_type": "execute_result"
    }
   ],
   "source": [
    "simpson_38(f,667,0,2)"
   ]
  }
 ],
 "metadata": {
  "kernelspec": {
   "display_name": "Python 3",
   "language": "python",
   "name": "python3"
  },
  "language_info": {
   "codemirror_mode": {
    "name": "ipython",
    "version": 3
   },
   "file_extension": ".py",
   "mimetype": "text/x-python",
   "name": "python",
   "nbconvert_exporter": "python",
   "pygments_lexer": "ipython3",
   "version": "3.9.2"
  }
 },
 "nbformat": 4,
 "nbformat_minor": 5
}
