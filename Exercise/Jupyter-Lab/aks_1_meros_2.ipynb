{
 "cells": [
  {
   "cell_type": "code",
   "execution_count": null,
   "id": "engaging-horse",
   "metadata": {},
   "outputs": [],
   "source": [
    "import math"
   ]
  },
  {
   "cell_type": "code",
   "execution_count": null,
   "id": "available-extension",
   "metadata": {},
   "outputs": [],
   "source": [
    "### Μέθοδος διχοτόμησης-Bolzano"
   ]
  },
  {
   "cell_type": "code",
   "execution_count": 1,
   "id": "fourth-frequency",
   "metadata": {},
   "outputs": [],
   "source": [
    "def f(x):\n",
    "    return x**3-11*x**2+36*x-36\n",
    "def bisection(a,b):\n",
    "    x=(a+b)/2\n",
    "    if f(x)*f(a)<0:\n",
    "        b=x\n",
    "    else:\n",
    "        a=x\n",
    "    return a,b,x"
   ]
  },
  {
   "cell_type": "code",
   "execution_count": 2,
   "id": "christian-hunger",
   "metadata": {},
   "outputs": [
    {
     "data": {
      "text/plain": [
       "[[1, 1, 2.5, 1.75, -1.328125],\n",
       " [2, 1.75, 2.5, 2.125, 0.423828125],\n",
       " [3, 1.75, 2.125, 1.9375, -0.269775390625],\n",
       " [4, 1.9375, 2.125, 2.03125, 0.120147705078125],\n",
       " [5, 1.9375, 2.03125, 1.984375, -0.06372451782226562],\n",
       " [6, 1.984375, 2.03125, 2.0078125, 0.030945301055908203],\n",
       " [7, 1.984375, 2.0078125, 1.99609375, -0.015701353549957275],\n",
       " [8, 1.99609375, 2.0078125, 2.001953125, 0.007793433964252472],\n",
       " [9, 1.99609375, 2.001953125, 1.9990234375, -0.003911019302904606],\n",
       " [10, 1.9990234375, 2.001953125, 2.00048828125, 0.001951933023519814]]"
      ]
     },
     "execution_count": 2,
     "metadata": {},
     "output_type": "execute_result"
    }
   ],
   "source": [
    "a,b=1,2.5\n",
    "solution_list=[]#αρχικοποίηση \n",
    "for i in range(10):\n",
    "    temp_a,temp_b=a,b\n",
    "    a,b,x=bisection(a,b)\n",
    "    solution_list.append([i+1,temp_a,temp_b,x,f(x)])\n",
    "solution_list"
   ]
  },
  {
   "cell_type": "code",
   "execution_count": 3,
   "id": "subsequent-affiliation",
   "metadata": {},
   "outputs": [
    {
     "data": {
      "text/plain": [
       "[[1, 2.5, 3.5, 3.0, 0.0],\n",
       " [2, 3.0, 3.5, 3.25, -0.859375],\n",
       " [3, 3.25, 3.5, 3.375, -1.353515625],\n",
       " [4, 3.375, 3.5, 3.4375, -1.611572265625],\n",
       " [5, 3.4375, 3.5, 3.46875, -1.742706298828125],\n",
       " [6, 3.46875, 3.5, 3.484375, -1.8087196350097656],\n",
       " [7, 3.484375, 3.5, 3.4921875, -1.8418278694152832],\n",
       " [8, 3.4921875, 3.5, 3.49609375, -1.858406126499176],\n",
       " [9, 3.49609375, 3.5, 3.498046875, -1.8667011335492134],\n",
       " [10, 3.498046875, 3.5, 3.4990234375, -1.8708500871434808]]"
      ]
     },
     "execution_count": 3,
     "metadata": {},
     "output_type": "execute_result"
    }
   ],
   "source": [
    "a,b=2.5,3.5\n",
    "solution_list=[]#αρχικοποίηση \n",
    "for i in range(10):\n",
    "    temp_a,temp_b=a,b\n",
    "    a,b,x=bisection(a,b)\n",
    "    solution_list.append([i+1,temp_a,temp_b,x,f(x)])\n",
    "solution_list"
   ]
  },
  {
   "cell_type": "code",
   "execution_count": 4,
   "id": "stuck-charleston",
   "metadata": {},
   "outputs": [
    {
     "data": {
      "text/plain": [
       "[[1, 5.5, 6.5, 6.0, 0.0],\n",
       " [2, 6.0, 6.5, 6.25, 3.453125],\n",
       " [3, 6.25, 6.5, 6.375, 5.537109375],\n",
       " [4, 6.375, 6.5, 6.4375, 6.673583984375],\n",
       " [5, 6.4375, 6.5, 6.46875, 7.266082763671875],\n",
       " [6, 6.46875, 6.5, 6.484375, 7.568477630615234],\n",
       " [7, 6.484375, 6.5, 6.4921875, 7.721221446990967],\n",
       " [8, 6.4921875, 6.5, 6.49609375, 7.7979812026023865],\n",
       " [9, 6.49609375, 6.5, 6.498046875, 7.836458198726177],\n",
       " [10, 6.498046875, 6.5, 6.4990234375, 7.855720995925367]]"
      ]
     },
     "execution_count": 4,
     "metadata": {},
     "output_type": "execute_result"
    }
   ],
   "source": [
    "a,b=5.5,6.5\n",
    "solution_list=[]#αρχικοποίηση \n",
    "for i in range(10):\n",
    "    temp_a,temp_b=a,b\n",
    "    a,b,x=bisection(a,b)\n",
    "    solution_list.append([i+1,temp_a,temp_b,x,f(x)])\n",
    "solution_list"
   ]
  },
  {
   "cell_type": "code",
   "execution_count": 5,
   "id": "blocked-champion",
   "metadata": {},
   "outputs": [
    {
     "data": {
      "text/plain": [
       "[[1, 1.5, 2.5, 2.0, 0.0],\n",
       " [2, 2.0, 2.5, 2.25, 0.703125],\n",
       " [3, 2.25, 2.5, 2.375, 0.849609375],\n",
       " [4, 2.375, 2.5, 2.4375, 0.876708984375],\n",
       " [5, 2.4375, 2.5, 2.46875, 0.879364013671875],\n",
       " [6, 2.46875, 2.5, 2.484375, 0.8780479431152344],\n",
       " [7, 2.484375, 2.5, 2.4921875, 0.8767390251159668],\n",
       " [8, 2.4921875, 2.5, 2.49609375, 0.8759230971336365],\n",
       " [9, 2.49609375, 2.5, 2.498046875, 0.8754749223589897],\n",
       " [10, 2.498046875, 2.5, 2.4990234375, 0.87524080183357],\n",
       " [11, 2.4990234375, 2.5, 2.49951171875, 0.8751212357310578],\n",
       " [12, 2.49951171875, 2.5, 2.499755859375, 0.8750608265254414]]"
      ]
     },
     "execution_count": 5,
     "metadata": {},
     "output_type": "execute_result"
    }
   ],
   "source": [
    "a,b=1.5,2.5\n",
    "solution_list=[]#αρχικοποίηση \n",
    "for i in range(12):\n",
    "    temp_a,temp_b=a,b\n",
    "    a,b,x=bisection(a,b)\n",
    "    solution_list.append([i+1,temp_a,temp_b,x,f(x)])\n",
    "solution_list"
   ]
  },
  {
   "cell_type": "code",
   "execution_count": 6,
   "id": "beginning-bookmark",
   "metadata": {},
   "outputs": [
    {
     "data": {
      "text/plain": [
       "[[1, 5.5, 6.5, 6.0, 0.0],\n",
       " [2, 6.0, 6.5, 6.25, 3.453125],\n",
       " [3, 6.25, 6.5, 6.375, 5.537109375],\n",
       " [4, 6.375, 6.5, 6.4375, 6.673583984375],\n",
       " [5, 6.4375, 6.5, 6.46875, 7.266082763671875],\n",
       " [6, 6.46875, 6.5, 6.484375, 7.568477630615234],\n",
       " [7, 6.484375, 6.5, 6.4921875, 7.721221446990967],\n",
       " [8, 6.4921875, 6.5, 6.49609375, 7.7979812026023865],\n",
       " [9, 6.49609375, 6.5, 6.498046875, 7.836458198726177],\n",
       " [10, 6.498046875, 6.5, 6.4990234375, 7.855720995925367],\n",
       " [11, 6.4990234375, 6.5, 6.49951171875, 7.865358471754007],\n",
       " [12, 6.49951171875, 6.5, 6.499755859375, 7.870178729281179],\n",
       " [13, 6.499755859375, 6.5, 6.4998779296875, 7.872589237986176]]"
      ]
     },
     "execution_count": 6,
     "metadata": {},
     "output_type": "execute_result"
    }
   ],
   "source": [
    "a,b=5.5,6.5\n",
    "solution_list=[]#αρχικοποίηση \n",
    "for i in range(13):\n",
    "    temp_a,temp_b=a,b\n",
    "    a,b,x=bisection(a,b)\n",
    "    solution_list.append([i+1,temp_a,temp_b,x,f(x)])\n",
    "solution_list"
   ]
  },
  {
   "cell_type": "code",
   "execution_count": null,
   "id": "dress-ethernet",
   "metadata": {
    "tags": []
   },
   "outputs": [],
   "source": [
    "### Επαναληπτική μέθοδος"
   ]
  },
  {
   "cell_type": "code",
   "execution_count": 7,
   "id": "stone-surprise",
   "metadata": {},
   "outputs": [
    {
     "data": {
      "text/plain": [
       "[[0, 1.3846153846153846],\n",
       " [1, 1.5868544600938967],\n",
       " [2, 1.7091819329129316],\n",
       " [3, 1.7892375911618714],\n",
       " [4, 1.8442851922939894],\n",
       " [5, 1.883411516407658],\n",
       " [6, 1.9118720192628098],\n",
       " [7, 1.9329209418643845],\n",
       " [8, 1.9486790465730166],\n",
       " [9, 1.960583501894732]]"
      ]
     },
     "execution_count": 7,
     "metadata": {},
     "output_type": "execute_result"
    }
   ],
   "source": [
    "def g(x):\n",
    "    return 36/(x**2-11*x+36)\n",
    "solution_list=[]\n",
    "def repetitive(x):\n",
    "    temp=x\n",
    "    x=g(x)\n",
    "    return temp,x\n",
    "x=1\n",
    "for i in range(10):\n",
    "    temp,x=repetitive(x)\n",
    "    solution_list.append([i,x])\n",
    "    if abs(x-temp)<10**(-9):\n",
    "        print(x,i)\n",
    "        break\n",
    "solution_list"
   ]
  },
  {
   "cell_type": "code",
   "execution_count": 8,
   "id": "suited-effort",
   "metadata": {
    "tags": []
   },
   "outputs": [
    {
     "data": {
      "text/plain": [
       "[[0, 1.2777777777777777],\n",
       " [1, 1.4409341182746533],\n",
       " [2, 1.5513167703326944],\n",
       " [3, 1.631640201501471],\n",
       " [4, 1.6928031529115808],\n",
       " [5, 1.7408483484470798],\n",
       " [6, 1.779454154402948],\n",
       " [7, 1.8110128540148211],\n",
       " [8, 1.8371594979675356],\n",
       " [9, 1.8590557535223189]]"
      ]
     },
     "execution_count": 8,
     "metadata": {},
     "output_type": "execute_result"
    }
   ],
   "source": [
    "def g(x):\n",
    "    return (x**3-11*x**2-36)/-36\n",
    "solution_list=[]\n",
    "def repetitive(x):\n",
    "    temp=x\n",
    "    x=g(x)\n",
    "    return temp,x\n",
    "x=1\n",
    "for i in range(10):\n",
    "    temp,x=repetitive(x)\n",
    "    solution_list.append([i,x])\n",
    "    if abs(x-temp)<10**(-9):\n",
    "        print(x,i)\n",
    "        break\n",
    "solution_list"
   ]
  },
  {
   "cell_type": "code",
   "execution_count": 9,
   "id": "electoral-joseph",
   "metadata": {},
   "outputs": [
    {
     "data": {
      "text/plain": [
       "[[0, 2.2239800905693152],\n",
       " [1, 2.1788383266824325],\n",
       " [2, 2.1387019547884574],\n",
       " [3, 2.104543164418611],\n",
       " [4, 2.0767323662913353],\n",
       " [5, 2.055024387578995],\n",
       " [6, 2.038704452313471],\n",
       " [7, 2.0268150367499937],\n",
       " [8, 2.0183666339191344],\n",
       " [9, 2.0124756618697135]]"
      ]
     },
     "execution_count": 9,
     "metadata": {},
     "output_type": "execute_result"
    }
   ],
   "source": [
    "def g(x):\n",
    "    return (11*x**2-36*x+36)**(1/3)\n",
    "solution_list=[]\n",
    "def repetitive(x):\n",
    "    temp=x\n",
    "    x=g(x)\n",
    "    return temp,x\n",
    "x=1\n",
    "for i in range(10):\n",
    "    temp,x=repetitive(x)\n",
    "    solution_list.append([i,x])\n",
    "    if abs(x-temp)<10**(-9):\n",
    "        print(x,i)\n",
    "        break\n",
    "solution_list"
   ]
  },
  {
   "cell_type": "code",
   "execution_count": 10,
   "id": "racial-notice",
   "metadata": {},
   "outputs": [
    {
     "data": {
      "text/plain": [
       "[[0, 1.3939805659268776],\n",
       " [1, 1.239210087991375],\n",
       " [2, 0.9776849177436779],\n",
       " [3, 0.10920979335404976],\n",
       " [4, (1.0454774278365071e-16+1.7073942112361036j)],\n",
       " [5, (1.1867633848013581+2.1635929848824267j)],\n",
       " [6, (1.7719429061473295+1.9727430747157453j)],\n",
       " [7, (2.084165682617063+1.7867045765858958j)],\n",
       " [8, (2.283515080478551+1.6302740797985145j)],\n",
       " [9, (2.4232021429944126+1.49801481289945j)]]"
      ]
     },
     "execution_count": 10,
     "metadata": {},
     "output_type": "execute_result"
    }
   ],
   "source": [
    "def g(x):\n",
    "    return ((x**3+36*x-36)/11)**(1/2)\n",
    "solution_list=[]\n",
    "def repetitive(x):\n",
    "    temp=x\n",
    "    x=g(x)\n",
    "    return temp,x\n",
    "x=1.5\n",
    "for i in range(10):\n",
    "    temp,x=repetitive(x)\n",
    "    solution_list.append([i,x])\n",
    "    if abs(x-temp)<10**(-9):\n",
    "        print(x,i)\n",
    "        break\n",
    "solution_list"
   ]
  },
  {
   "cell_type": "code",
   "execution_count": 11,
   "id": "fleet-rochester",
   "metadata": {},
   "outputs": [
    {
     "data": {
      "text/plain": [
       "[[0, 0.7297297297297297],\n",
       " [1, 0.7979970605325221],\n",
       " [2, 0.7805276367712966],\n",
       " [3, 0.7849825351082138],\n",
       " [4, 0.7838454946648286],\n",
       " [5, 0.7841356409388853],\n",
       " [6, 0.7840615981409244],\n",
       " [7, 0.7840804929423085],\n",
       " [8, 0.7840756712060462],\n",
       " [9, 0.7840769016565865]]"
      ]
     },
     "execution_count": 11,
     "metadata": {},
     "output_type": "execute_result"
    }
   ],
   "source": [
    "def g(x):\n",
    "    return (2*x**2-11*x+36)/(x**3+36)\n",
    "solution_list=[]\n",
    "def repetitive(x):\n",
    "    temp=x\n",
    "    x=g(x)\n",
    "    return temp,x\n",
    "x=1\n",
    "for i in range(10):\n",
    "    temp,x=repetitive(x)\n",
    "    solution_list.append([i,x])\n",
    "    if abs(x-temp)<10**(-9):\n",
    "        print(x,i)\n",
    "        break\n",
    "solution_list"
   ]
  },
  {
   "cell_type": "code",
   "execution_count": null,
   "id": "planned-click",
   "metadata": {},
   "outputs": [],
   "source": [
    "### Επαναλαμβάνουμε τους παραπάνω κώδικες της επαναληπτικής μεθόδου για x=2.5 και για x=5.5 για να προσεγγίσουμε και τις άλλες δύο ρίζες της εξίσωσης"
   ]
  },
  {
   "cell_type": "code",
   "execution_count": null,
   "id": "alone-steal",
   "metadata": {},
   "outputs": [],
   "source": [
    "### Μέθοδος Newton-Raphson"
   ]
  },
  {
   "cell_type": "code",
   "execution_count": 12,
   "id": "beginning-shelf",
   "metadata": {},
   "outputs": [
    {
     "name": "stdout",
     "output_type": "stream",
     "text": [
      "4 1.9999999999999984\n"
     ]
    },
    {
     "data": {
      "text/plain": [
       "[[0, 1.9485981308411215],\n",
       " [1, 1.9970184547927374],\n",
       " [2, 1.9999889571185836],\n",
       " [3, 1.9999999998475746],\n",
       " [4, 1.9999999999999984]]"
      ]
     },
     "execution_count": 12,
     "metadata": {},
     "output_type": "execute_result"
    }
   ],
   "source": [
    "def f(x):\n",
    "    return x**3-11*x**2+36*x-36,3*x**2-22*x+36\n",
    "def newton_raphson(x):\n",
    "    temp=x\n",
    "    x=x-f(x)[0]/f(x)[1]\n",
    "    return x,temp\n",
    "solution_list=[]\n",
    "x=1.75\n",
    "for i in range(10):\n",
    "    x,temp=newton_raphson(x)\n",
    "    solution_list.append([i,x])\n",
    "    if abs(x-temp)<10**(-9):\n",
    "        print(i,x)\n",
    "        break\n",
    "solution_list"
   ]
  },
  {
   "cell_type": "code",
   "execution_count": 13,
   "id": "returning-psychiatry",
   "metadata": {},
   "outputs": [
    {
     "name": "stdout",
     "output_type": "stream",
     "text": [
      "4 2.9999999999999947\n"
     ]
    },
    {
     "data": {
      "text/plain": [
       "[[0, 3.0652173913043477],\n",
       " [1, 3.0024481430170953],\n",
       " [2, 3.000003972876599],\n",
       " [3, 3.00000000001052],\n",
       " [4, 2.9999999999999947]]"
      ]
     },
     "execution_count": 13,
     "metadata": {},
     "output_type": "execute_result"
    }
   ],
   "source": [
    "def f(x):\n",
    "    return x**3-11*x**2+36*x-36,3*x**2-22*x+36\n",
    "def newton_raphson(x):\n",
    "    temp=x\n",
    "    x=x-f(x)[0]/f(x)[1]\n",
    "    return x,temp\n",
    "solution_list=[]\n",
    "x=3.75\n",
    "for i in range(10):\n",
    "    x,temp=newton_raphson(x)\n",
    "    solution_list.append([i,x])\n",
    "    if abs(x-temp)<10**(-9):\n",
    "        print(i,x)\n",
    "        break\n",
    "solution_list"
   ]
  },
  {
   "cell_type": "code",
   "execution_count": 14,
   "id": "adjustable-legend",
   "metadata": {},
   "outputs": [
    {
     "name": "stdout",
     "output_type": "stream",
     "text": [
      "4 5.999999999999999\n"
     ]
    },
    {
     "data": {
      "text/plain": [
       "[[0, 6.046762589928058],\n",
       " [1, 6.001225132630491],\n",
       " [2, 6.000000874610196],\n",
       " [3, 6.000000000000451],\n",
       " [4, 5.999999999999999]]"
      ]
     },
     "execution_count": 14,
     "metadata": {},
     "output_type": "execute_result"
    }
   ],
   "source": [
    "def f(x):\n",
    "    return x**3-11*x**2+36*x-36,3*x**2-22*x+36\n",
    "def newton_raphson(x):\n",
    "    temp=x\n",
    "    x=x-f(x)[0]/f(x)[1]\n",
    "    return x,temp\n",
    "solution_list=[]\n",
    "x=5.75\n",
    "for i in range(10):\n",
    "    x,temp=newton_raphson(x)\n",
    "    solution_list.append([i,x])\n",
    "    if abs(x-temp)<10**(-9):\n",
    "        print(i,x)\n",
    "        break\n",
    "solution_list"
   ]
  }
 ],
 "metadata": {
  "kernelspec": {
   "display_name": "Python 3",
   "language": "python",
   "name": "python3"
  },
  "language_info": {
   "codemirror_mode": {
    "name": "ipython",
    "version": 3
   },
   "file_extension": ".py",
   "mimetype": "text/x-python",
   "name": "python",
   "nbconvert_exporter": "python",
   "pygments_lexer": "ipython3",
   "version": "3.9.2"
  }
 },
 "nbformat": 4,
 "nbformat_minor": 5
}
