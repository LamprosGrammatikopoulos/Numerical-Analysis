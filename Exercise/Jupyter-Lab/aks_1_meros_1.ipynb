{
 "cells": [
  {
   "cell_type": "code",
   "execution_count": null,
   "id": "thorough-citizen",
   "metadata": {},
   "outputs": [],
   "source": [
    "import math"
   ]
  },
  {
   "cell_type": "code",
   "execution_count": null,
   "id": "clear-beast",
   "metadata": {},
   "outputs": [],
   "source": [
    "### Μέθοδος διχοτόμησης-Bolzano"
   ]
  },
  {
   "cell_type": "code",
   "execution_count": 1,
   "id": "abstract-crack",
   "metadata": {},
   "outputs": [],
   "source": [
    "def f(x):\n",
    "    return x**3-11*x**2+38*x-40\n",
    "def bisection(a,b):\n",
    "    x=(a+b)/2\n",
    "    if f(x)*f(a)<0:\n",
    "        b=x\n",
    "    else:\n",
    "        a=x\n",
    "    return a,b,x"
   ]
  },
  {
   "cell_type": "code",
   "execution_count": 2,
   "id": "stunning-postcard",
   "metadata": {},
   "outputs": [
    {
     "data": {
      "text/plain": [
       "[[1, 0, 3, 1.5, -4.375],\n",
       " [2, 1.5, 3, 2.25, 1.203125],\n",
       " [3, 1.5, 2.25, 1.875, -0.830078125],\n",
       " [4, 1.875, 2.25, 2.0625, 0.355712890625],\n",
       " [5, 1.875, 2.0625, 1.96875, -0.192413330078125],\n",
       " [6, 1.96875, 2.0625, 2.015625, 0.09253311157226562],\n",
       " [7, 1.96875, 2.015625, 1.9921875, -0.0471806526184082],\n",
       " [8, 1.9921875, 2.015625, 2.00390625, 0.023361265659332275],\n",
       " [9, 1.9921875, 2.00390625, 1.998046875, -0.011737830936908722],\n",
       " [10, 1.998046875, 2.00390625, 2.0009765625, 0.005854607559740543]]"
      ]
     },
     "execution_count": 2,
     "metadata": {},
     "output_type": "execute_result"
    }
   ],
   "source": [
    "a,b=0,3\n",
    "solution_list=[]#αρχικοποίηση \n",
    "for i in range(10):\n",
    "    temp_a,temp_b=a,b\n",
    "    a,b,x=bisection(a,b)\n",
    "    solution_list.append([i+1,temp_a,temp_b,x,f(x)])\n",
    "solution_list"
   ]
  },
  {
   "cell_type": "code",
   "execution_count": 3,
   "id": "interpreted-testing",
   "metadata": {},
   "outputs": [
    {
     "data": {
      "text/plain": [
       "[[1, 3, 4.5, 3.75, 0.546875],\n",
       " [2, 3.75, 4.5, 4.125, -0.232421875],\n",
       " [3, 3.75, 4.125, 3.9375, 0.128662109375],\n",
       " [4, 3.9375, 4.125, 4.03125, -0.061492919921875],\n",
       " [5, 3.9375, 4.03125, 3.984375, 0.031490325927734375],\n",
       " [6, 3.984375, 4.03125, 4.0078125, -0.015563488006591797],\n",
       " [7, 3.984375, 4.0078125, 3.99609375, 0.007827699184417725],\n",
       " [8, 3.99609375, 4.0078125, 4.001953125, -0.003902427852153778],\n",
       " [9, 3.99609375, 4.001953125, 3.9990234375, 0.0019540777429938316],\n",
       " [10, 3.9990234375, 4.001953125, 4.00048828125, -0.0009763239650055766]]"
      ]
     },
     "execution_count": 3,
     "metadata": {},
     "output_type": "execute_result"
    }
   ],
   "source": [
    "a,b=3,4.5\n",
    "solution_list=[]#αρχικοποίηση \n",
    "for i in range(10):\n",
    "    temp_a,temp_b=a,b\n",
    "    a,b,x=bisection(a,b)\n",
    "    solution_list.append([i+1,temp_a,temp_b,x,f(x)])\n",
    "solution_list"
   ]
  },
  {
   "cell_type": "code",
   "execution_count": 4,
   "id": "homeless-signal",
   "metadata": {},
   "outputs": [
    {
     "data": {
      "text/plain": [
       "[[1, 4.5, 6, 5.25, 1.015625],\n",
       " [2, 4.5, 5.25, 4.875, -0.314453125],\n",
       " [3, 4.875, 5.25, 5.0625, 0.203369140625],\n",
       " [4, 4.875, 5.0625, 4.96875, -0.089874267578125],\n",
       " [5, 4.96875, 5.0625, 5.015625, 0.047855377197265625],\n",
       " [6, 4.96875, 5.015625, 4.9921875, -0.023193836212158203],\n",
       " [7, 4.9921875, 5.015625, 5.00390625, 0.011779844760894775],\n",
       " [8, 4.9921875, 5.00390625, 4.998046875, -0.005844123661518097],\n",
       " [9, 4.998046875, 5.00390625, 5.0009765625, 0.0029335031285881996],\n",
       " [10, 4.998046875, 5.0009765625, 4.99951171875, -0.0014638901920989156]]"
      ]
     },
     "execution_count": 4,
     "metadata": {},
     "output_type": "execute_result"
    }
   ],
   "source": [
    "a,b=4.5,6\n",
    "solution_list=[]#αρχικοποίηση \n",
    "for i in range(10):\n",
    "    temp_a,temp_b=a,b\n",
    "    a,b,x=bisection(a,b)\n",
    "    solution_list.append([i+1,temp_a,temp_b,x,f(x)])\n",
    "solution_list"
   ]
  },
  {
   "cell_type": "code",
   "execution_count": null,
   "id": "preliminary-plastic",
   "metadata": {
    "tags": []
   },
   "outputs": [],
   "source": [
    "### Επαναληπτική μέθοδος"
   ]
  },
  {
   "cell_type": "code",
   "execution_count": 5,
   "id": "invisible-shark",
   "metadata": {},
   "outputs": [
    {
     "data": {
      "text/plain": [
       "[[0, 1.4285714285714286],\n",
       " [1, 1.644295302013423],\n",
       " [2, 1.7686234833940109],\n",
       " [3, 1.84559982190251],\n",
       " [4, 1.8953177474672924],\n",
       " [5, 1.9282931282629276],\n",
       " [6, 1.9505449112314446],\n",
       " [7, 1.9657341646358353],\n",
       " [8, 1.9761835306266076],\n",
       " [9, 1.9834105056300322]]"
      ]
     },
     "execution_count": 5,
     "metadata": {},
     "output_type": "execute_result"
    }
   ],
   "source": [
    "def g(x):\n",
    "    return 40/(x**2-11*x+38)\n",
    "solution_list=[]\n",
    "def repetitive(x):\n",
    "    temp=x\n",
    "    x=g(x)\n",
    "    return temp,x\n",
    "x=1\n",
    "for i in range(10):\n",
    "    temp,x=repetitive(x)\n",
    "    solution_list.append([i,x])\n",
    "    if abs(x-temp)<10**(-9):\n",
    "        print(x,i)\n",
    "        break\n",
    "solution_list"
   ]
  },
  {
   "cell_type": "code",
   "execution_count": 6,
   "id": "incorporated-atlantic",
   "metadata": {
    "tags": []
   },
   "outputs": [
    {
     "data": {
      "text/plain": [
       "[[0, 1.3157894736842106],\n",
       " [1, 1.4938498016436337],\n",
       " [2, 1.610889562839082],\n",
       " [3, 1.693800386579153],\n",
       " [4, 1.7552397924321377],\n",
       " [5, 1.8021545826446979],\n",
       " [6, 1.8387474977865577],\n",
       " [7, 1.8677401243068648],\n",
       " [8, 1.8909858139577709],\n",
       " [9, 1.909796369608943]]"
      ]
     },
     "execution_count": 6,
     "metadata": {},
     "output_type": "execute_result"
    }
   ],
   "source": [
    "def g(x):\n",
    "    return (x**3-11*x**2-40)/(-38)\n",
    "solution_list=[]\n",
    "def repetitive(x):\n",
    "    temp=x\n",
    "    x=g(x)\n",
    "    return temp,x\n",
    "x=1\n",
    "for i in range(10):\n",
    "    temp,x=repetitive(x)\n",
    "    solution_list.append([i,x])\n",
    "    if abs(x-temp)<10**(-9):\n",
    "        print(x,i)\n",
    "        break\n",
    "solution_list"
   ]
  },
  {
   "cell_type": "code",
   "execution_count": 7,
   "id": "changed-tournament",
   "metadata": {},
   "outputs": [
    {
     "data": {
      "text/plain": [
       "[[0, 2.3513346877207573],\n",
       " [1, 2.2549392606802097],\n",
       " [2, 2.1718570791026197],\n",
       " [3, 2.1071581791997684],\n",
       " [4, 2.06215352009342],\n",
       " [5, 2.0340354083473544],\n",
       " [6, 2.0179185622402143],\n",
       " [7, 2.009211112332182],\n",
       " [8, 2.004672406183758],\n",
       " [9, 2.0023534447524423]]"
      ]
     },
     "execution_count": 7,
     "metadata": {},
     "output_type": "execute_result"
    }
   ],
   "source": [
    "def g(x):\n",
    "    return (11*x**2-38*x+40)**(1/3)\n",
    "solution_list=[]\n",
    "def repetitive(x):\n",
    "    temp=x\n",
    "    x=g(x)\n",
    "    return temp,x\n",
    "x=1\n",
    "for i in range(10):\n",
    "    temp,x=repetitive(x)\n",
    "    solution_list.append([i,x])\n",
    "    if abs(x-temp)<10**(-9):\n",
    "        print(x,i)\n",
    "        break\n",
    "solution_list"
   ]
  },
  {
   "cell_type": "code",
   "execution_count": 8,
   "id": "eligible-chemistry",
   "metadata": {},
   "outputs": [
    {
     "data": {
      "text/plain": [
       "[[0, 3.0301515113634467],\n",
       " [1, 3.0595314209340754],\n",
       " [2, 3.0881246037358534],\n",
       " [3, 3.1159221183781174],\n",
       " [4, 3.142920426588304],\n",
       " [5, 3.1691206593884744],\n",
       " [6, 3.194527937696815],\n",
       " [7, 3.2191507515315103],\n",
       " [8, 3.2430003991973604],\n",
       " [9, 3.266090485742519]]"
      ]
     },
     "execution_count": 8,
     "metadata": {},
     "output_type": "execute_result"
    }
   ],
   "source": [
    "def g(x):\n",
    "    return ((x**3+38*x-40)/11)**(1/2)\n",
    "solution_list=[]\n",
    "def repetitive(x):\n",
    "    temp=x\n",
    "    x=g(x)\n",
    "    return temp,x\n",
    "x=3\n",
    "for i in range(10):\n",
    "    temp,x=repetitive(x)\n",
    "    solution_list.append([i,x])\n",
    "    if abs(x-temp)<10**(-9):\n",
    "        print(x,i)\n",
    "        break\n",
    "solution_list"
   ]
  },
  {
   "cell_type": "code",
   "execution_count": 9,
   "id": "right-harrison",
   "metadata": {},
   "outputs": [
    {
     "data": {
      "text/plain": [
       "[[0, 0.7073170731707317],\n",
       " [1, 0.7736583359370983],\n",
       " [2, 0.7583915889807659],\n",
       " [3, 0.761891870585953],\n",
       " [4, 0.7610886741093214],\n",
       " [5, 0.7612729451800544],\n",
       " [6, 0.7612306674509163],\n",
       " [7, 0.7612403672280368],\n",
       " [8, 0.7612381418035339],\n",
       " [9, 0.7612386523834702]]"
      ]
     },
     "execution_count": 9,
     "metadata": {},
     "output_type": "execute_result"
    }
   ],
   "source": [
    "def g(x):\n",
    "    return (2*x**2-11*x+38)/(x**3+40)\n",
    "solution_list=[]\n",
    "def repetitive(x):\n",
    "    temp=x\n",
    "    x=g(x)\n",
    "    return temp,x\n",
    "x=1\n",
    "for i in range(10):\n",
    "    temp,x=repetitive(x)\n",
    "    solution_list.append([i,x])\n",
    "    if abs(x-temp)<10**(-9):\n",
    "        print(x,i)\n",
    "        break\n",
    "solution_list"
   ]
  },
  {
   "cell_type": "code",
   "execution_count": null,
   "id": "mounted-oregon",
   "metadata": {},
   "outputs": [],
   "source": [
    "### Επαναλαμβάνουμε τους παραπάνω κώδικες της επαναληπτικής μεθόδου για x=3.5 και για x=4.5 για να προσεγγίσουμε και τις άλλες δύο ρίζες της εξίσωσης"
   ]
  },
  {
   "cell_type": "code",
   "execution_count": null,
   "id": "hired-spell",
   "metadata": {},
   "outputs": [],
   "source": [
    "### Μέθοδος Newton-Raphson"
   ]
  },
  {
   "cell_type": "code",
   "execution_count": 10,
   "id": "typical-librarian",
   "metadata": {},
   "outputs": [
    {
     "name": "stdout",
     "output_type": "stream",
     "text": [
      "5 2.0\n"
     ]
    },
    {
     "data": {
      "text/plain": [
       "[[0, 1.872340425531915],\n",
       " [1, 1.988308522471778],\n",
       " [2, 1.9998877533100894],\n",
       " [3, 1.9999999895020595],\n",
       " [4, 2.0],\n",
       " [5, 2.0]]"
      ]
     },
     "execution_count": 10,
     "metadata": {},
     "output_type": "execute_result"
    }
   ],
   "source": [
    "def f(x):\n",
    "    return x**3-11*x**2+38*x-40,3*x**2-22*x+38\n",
    "def newton_raphson(x):\n",
    "    temp=x\n",
    "    x=x-f(x)[0]/f(x)[1]\n",
    "    return x,temp\n",
    "solution_list=[]\n",
    "x=1.5\n",
    "for i in range(10):\n",
    "    x,temp=newton_raphson(x)\n",
    "    solution_list.append([i,x])\n",
    "    if abs(x-temp)<10**(-9):\n",
    "        print(i,x)\n",
    "        break\n",
    "solution_list"
   ]
  },
  {
   "cell_type": "code",
   "execution_count": 11,
   "id": "entertaining-samoa",
   "metadata": {},
   "outputs": [
    {
     "name": "stdout",
     "output_type": "stream",
     "text": [
      "4 3.9999999999999973\n"
     ]
    },
    {
     "data": {
      "text/plain": [
       "[[0, 3.9864864864864864],\n",
       " [1, 3.9999123210802057],\n",
       " [2, 3.9999999961572117],\n",
       " [3, 3.9999999999999902],\n",
       " [4, 3.9999999999999973]]"
      ]
     },
     "execution_count": 11,
     "metadata": {},
     "output_type": "execute_result"
    }
   ],
   "source": [
    "def f(x):\n",
    "    return x**3-11*x**2+38*x-40,3*x**2-22*x+38\n",
    "def newton_raphson(x):\n",
    "    temp=x\n",
    "    x=x-f(x)[0]/f(x)[1]\n",
    "    return x,temp\n",
    "solution_list=[]\n",
    "x=3.75\n",
    "for i in range(10):\n",
    "    x,temp=newton_raphson(x)\n",
    "    solution_list.append([i,x])\n",
    "    if abs(x-temp)<10**(-9):\n",
    "        print(i,x)\n",
    "        break\n",
    "solution_list"
   ]
  },
  {
   "cell_type": "code",
   "execution_count": 12,
   "id": "executive-vacation",
   "metadata": {},
   "outputs": [
    {
     "name": "stdout",
     "output_type": "stream",
     "text": [
      "4 4.999999999999994\n"
     ]
    },
    {
     "data": {
      "text/plain": [
       "[[0, 5.054216867469879],\n",
       " [1, 5.003508039304357],\n",
       " [2, 5.000016284693778],\n",
       " [3, 5.0000000003535785],\n",
       " [4, 4.999999999999994]]"
      ]
     },
     "execution_count": 12,
     "metadata": {},
     "output_type": "execute_result"
    }
   ],
   "source": [
    "def f(x):\n",
    "    return x**3-11*x**2+38*x-40,3*x**2-22*x+38\n",
    "def newton_raphson(x):\n",
    "    temp=x\n",
    "    x=x-f(x)[0]/f(x)[1]\n",
    "    return x,temp\n",
    "solution_list=[]\n",
    "x=5.25\n",
    "for i in range(10):\n",
    "    x,temp=newton_raphson(x)\n",
    "    solution_list.append([i,x])\n",
    "    if abs(x-temp)<10**(-9):\n",
    "        print(i,x)\n",
    "        break\n",
    "solution_list"
   ]
  }
 ],
 "metadata": {
  "kernelspec": {
   "display_name": "Python 3",
   "language": "python",
   "name": "python3"
  },
  "language_info": {
   "codemirror_mode": {
    "name": "ipython",
    "version": 3
   },
   "file_extension": ".py",
   "mimetype": "text/x-python",
   "name": "python",
   "nbconvert_exporter": "python",
   "pygments_lexer": "ipython3",
   "version": "3.9.2"
  }
 },
 "nbformat": 4,
 "nbformat_minor": 5
}
